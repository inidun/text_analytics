{
 "cells": [
  {
   "cell_type": "code",
   "execution_count": null,
   "metadata": {},
   "outputs": [],
   "source": []
  },
  {
   "cell_type": "code",
   "execution_count": 20,
   "metadata": {},
   "outputs": [],
   "source": [
    "import os\n",
    "import sys\n",
    "import glove\n",
    "\n",
    "root_folder = (lambda x: os.path.join(os.getcwd().split(x)[0], x))('text_analytics')\n",
    "sys.path.insert(0, root_folder)\n",
    "\n",
    "import westac.corpus.iterators.text_tokenizer as text_tokenizer\n",
    "\n",
    "corpus_folder = os.path.join(root_folder, 'data')\n",
    "corpus_path = os.path.join(corpus_folder, \"legal_instrument_corpus_preprocessed.zip\")\n",
    "\n",
    "tokenizer = text_tokenizer.TextTokenizer(\n",
    "    source_path=corpus_path,\n",
    "    filename_pattern=\"*.txt\",\n",
    "    fix_whitespaces=True,\n",
    "    fix_hyphenation=True,\n",
    "    filename_fields=None\n",
    ")\n",
    "\n",
    "reader = ( tokens for _, tokens in tokenizer )\n",
    "\n",
    "corpus = glove.Corpus()\n",
    "\n",
    "corpus.fit(reader, 5, False)\n"
   ]
  },
  {
   "cell_type": "code",
   "execution_count": 22,
   "metadata": {},
   "outputs": [
    {
     "data": {
      "text/plain": [
       "scipy.sparse.coo.coo_matrix"
      ]
     },
     "execution_count": 22,
     "metadata": {},
     "output_type": "execute_result"
    }
   ],
   "source": [
    "type(corpus.matrix)"
   ]
  },
  {
   "cell_type": "code",
   "execution_count": 35,
   "metadata": {},
   "outputs": [
    {
     "data": {
      "text/plain": [
       "682060.4598632604"
      ]
     },
     "execution_count": 35,
     "metadata": {},
     "output_type": "execute_result"
    }
   ],
   "source": [
    "\n",
    "corpus.matrix.sum()\n"
   ]
  },
  {
   "cell_type": "code",
   "execution_count": 26,
   "metadata": {},
   "outputs": [
    {
     "data": {
      "text/plain": [
       "(10273, 10273)"
      ]
     },
     "execution_count": 26,
     "metadata": {},
     "output_type": "execute_result"
    }
   ],
   "source": [
    "corpus.matrix.shape"
   ]
  },
  {
   "cell_type": "code",
   "execution_count": null,
   "metadata": {},
   "outputs": [],
   "source": []
  }
 ],
 "metadata": {
  "jupytext": {
   "formats": "ipynb,py:percent"
  },
  "kernelspec": {
   "display_name": "Python 3.8.2 64-bit ('text_analytics': venv)",
   "metadata": {
    "interpreter": {
     "hash": "feaa6644a67d98bc2c380c25a7ae5b1ab301b95bfc0add23663419f9cdbe38f8"
    }
   },
   "name": "Python 3.8.2 64-bit ('text_analytics': venv)"
  },
  "language_info": {
   "codemirror_mode": {
    "name": "ipython",
    "version": 3
   },
   "file_extension": ".py",
   "mimetype": "text/x-python",
   "name": "python",
   "nbconvert_exporter": "python",
   "pygments_lexer": "ipython3",
   "version": "3.8.2-final"
  }
 },
 "nbformat": 4,
 "nbformat_minor": 2
}

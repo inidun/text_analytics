{
 "cells": [
  {
   "cell_type": "markdown",
   "id": "14063330",
   "metadata": {},
   "source": [
    "### Overview\n",
    "\n",
    "This notebook implements a processing pipeline from computes word co-occurrences from plain text. The term-term co-occurrence matrix is transformed into a DTM corpus that has a vocabulary consisting of token-pairs. The co-occurring word trends can hence be xxplored using the ordinary word trends analysis tools.\n",
    "\n",
    "For large corpora the processing time can be considerable and in such a case you\n",
    "should consider using the CLI-version of the processing pipeline.\n",
    "\n",
    "### Text Processing Pipeline\n",
    "\n",
    "| | Building block | Arguments | Description | Configuration\n",
    "| -- | :------------- | :------------- | :------------- | :------------- |\n",
    "| ⚙ | <b>SetTagger</b>~~SpacyModel~~ | tagger | Set PoS tagger | spaCy\n",
    "| 📜| <b>LoadText</b> | reader_opts, transform_opts | Load text stream | config.yml\n",
    "| 🔎 | <b>Tqdm</b> | ⚪ | Progress indicator | ⚪\n",
    "| ⌛ | <b>Passthrough</b> | ⚪ | Passthrough  | ⚪\n",
    "| 🔨 | Spacy<b>ToTaggedFrame</b> | tagger service | PoS tagging |\n",
    "| 💾 | <b>Checkpoint</b> | tagged_frames_filename | Checkpoint (tagged frames) to file |\n",
    "| 🔨 | TaggedFrame<b>ToTokens</b> | extract_opts, filter_opts | Tokens extractor | User\n",
    "| 🔨 | <b>TokensTransform</b> | transform_opts | Tokens transformer | User\n",
    "| 🔨 | <b>Vocabulary</b> | ⚪ | Generate a token to integer ID mapping | ⚪\n",
    "| 🔨 | <b>ToDocumentContentTuple</b> | ⚪ | API adapter| ⚪\n",
    "| 🔨 | <i>Partition</i> | ⚪ | Partition corpus into subsets based on predicate | 'year'\n",
    "| 🔎 | <i>ToTTM</i> | ⚪ | Transform each partition to TTM matrices | User\n",
    "| 🔨 | <b>ToCoOccurrence</b> | ⚪| Transform TTM into data frame with normalized values | ⚪\n",
    "| 💾 | <i>Checkpoint</i> | checkpoint_filename| Store co-occurrence data frame | ⚪\n",
    "| 🔨 | <b>ToDTM</b> | vectorize_opts| Transform data frame into DTM | ⚪\n",
    "| 💾 | <b>Checkpoint</b> | checkpoint_filename| Checkpoint (DTM) to file | ⚪\n",
    "\n",
    "\n",
    "### How the co-occurrence counts are computed\n",
    "\n",
    "The co-occurrences are computed using a sliding window of size (D + 1 + D) that word by word moves through each document in the corpus, and keeps count of how many windows each pair of words co-occur in. Note that all windows will (currenty) always have an odd number of words, and the reason for this is the conditioned co-occurrence described below.\n",
    "\n",
    "The computation is done by first creating a (streamed) windowed corpus, consisting of all windows. From this corpus a DTM (document-term-matrix) is created, giving counts for each word in each window. This DTM is then used to compute a TTM (term-term-matrix) simply by multiplying the DTM with a transposed version of itself.\n",
    "\n",
    "Also note that the process of generating windows currently ignores sentences, paragraphs etc.\n",
    "\n",
    "#### GUI elements\n",
    "\n",
    "| | Config element |  Description |\n",
    "| -- | :------------- | :------------- |\n",
    "| | Corpus type | Type of corpus, disabled since only text corpora are allowed in this notebook.\n",
    "| | Source corpus file | Select file (ZIP) or folder that contains the text documents.\n",
    "| | Output tag | String that will be prefix to result files. Only valid filename chars are allowed.\n",
    "| | Output folder | Target folder for result files.\n",
    "| | Part-of-speech groups | Groups of tags to include in DTM given corpus PoS-schema\n",
    "| | Filename fields | Specifies attribute values to be extracted from filenames\n",
    "| | Lemmatize | Use word's lemma (base form)\n",
    "| | To lower | Lowercase all words\n",
    "| | Only alphabetic | Filter out words that has at least one non-alphabetic character\n",
    "| | Only alphanumeric | Filter out words that has at least one non-alphanumeric character\n",
    "| | No stopwords | Remove common stopwords using NLTK language specific stopwords\n",
    "| | Extra stopwords | Additional stopwords to remove\n",
    "| | Create subfolder | Sore result in subfolder named `output tag` in `target folder`\n",
    "| | Context distance | Max allowed distance to window's center-most word\n",
    "| | Concept | If specified, filter out windows having a center-most word not in list of specified words\n",
    "| | Remove concept | If specified, filter out concept word's co-occurrence pairs\n",
    "| | Normalize | Normalize output based on selected time period's corpus size\n",
    "| | Smooth | Smooth curve using PCHIP interpolations.\n",
    "\n",
    "\n",
    "N.B. Note that PoS schema (e.g. SUC, Universal, ON5 Penn Treebank tag sets) and language must be set for each corpus. This, and other options, is specified in the _corpus configuration file_. For an example, please see _SSI.yml_ inf the `resources` folder.\n",
    "\n",
    "\n",
    "### Concept co-occurrence\n",
    "\n",
    "The algorithm allows for computing a conditioned co-occurrence, where the set of windows are constrained so that the center-most word must one of a number of specified (concept) words. This results in a set of co-occurrences that occur in close proximity (i.e. the max distance of D) of the center-most word.\n",
    "\n",
    "### Word trends\n",
    "\n",
    "Specifiy words of interest in the textbox in the text box. You can use both __wildcards__ ```*``` and __regular expressions__ to widen your search. The\n",
    "words in the vocabulary that matches what you have specified will be listed in the selection box. Since using wildcards and regexps can result\n",
    "in a large number of words, only the `Word count` most frequent words are displayed. Refine your search if you get to many matches.\n",
    "\n",
    "The words are plotted when selected in the selection box. You can select and plot __multiple words__ by pressing CTRL, or using CTRL + arrow keys. The words are listed  in descending order by global corpus frequency.\n",
    "\n",
    "The regular expressions must be surrounded by vertical bars ```|```. To find words ending with ```tion```\n",
    "you can enter ```|.*tion$|```  The vertical\n",
    "bars is specified only so that the system can distinguish the regexp from normal words. The actual expression is ```^.*tion$```.\n",
    "The dot and star ```.*``` matches any character (the dot) any number of times (the ```*```). The dollar sign ```$``` indicates the word ending.\n",
    "So this expression matches all words that begins with any number of characters follwoed, by the character sequence ```tion``` at the end of the word.\n",
    "To match all words starting with `info`you can enter ```|^info.*|``` where ```^``` specifies the start of the word.\n",
    "\n",
    "The \"words\" in this case are co-occurrence pairs and to find instances matching \"information\" you could enter ```information*```, ```*information``` or ```*information*``` to match pairs starting with information, ending with information or containing information respectively."
   ]
  },
  {
   "cell_type": "code",
   "execution_count": 2,
   "id": "7ed6de40",
   "metadata": {},
   "outputs": [
    {
     "ename": "ImportError",
     "evalue": "cannot import name 'figure' from 'bokeh.plotting' (/home/roger/.cache/pypoetry/virtualenvs/humlab-inidun-symNAVlf-py3.9/lib/python3.9/site-packages/bokeh/plotting/__init__.py)",
     "output_type": "error",
     "traceback": [
      "\u001b[0;31m---------------------------------------------------------------------------\u001b[0m",
      "\u001b[0;31mImportError\u001b[0m                               Traceback (most recent call last)",
      "Cell \u001b[0;32mIn[2], line 3\u001b[0m\n\u001b[1;32m      1\u001b[0m \u001b[38;5;28;01mfrom\u001b[39;00m \u001b[38;5;21;01mbokeh\u001b[39;00m\u001b[38;5;21;01m.\u001b[39;00m\u001b[38;5;21;01mplotting\u001b[39;00m \u001b[38;5;28;01mimport\u001b[39;00m output_notebook\n\u001b[1;32m      2\u001b[0m \u001b[38;5;28;01mfrom\u001b[39;00m \u001b[38;5;21;01mIPython\u001b[39;00m\u001b[38;5;21;01m.\u001b[39;00m\u001b[38;5;21;01mdisplay\u001b[39;00m \u001b[38;5;28;01mimport\u001b[39;00m display\n\u001b[0;32m----> 3\u001b[0m \u001b[38;5;28;01mfrom\u001b[39;00m \u001b[38;5;21;01mpenelope\u001b[39;00m\u001b[38;5;21;01m.\u001b[39;00m\u001b[38;5;21;01mnotebook\u001b[39;00m\u001b[38;5;21;01m.\u001b[39;00m\u001b[38;5;21;01mco_occurrence\u001b[39;00m \u001b[38;5;28;01mimport\u001b[39;00m MainGUI\n\u001b[1;32m      5\u001b[0m \u001b[38;5;28;01mimport\u001b[39;00m \u001b[38;5;21;01m__paths__\u001b[39;00m\n\u001b[1;32m      7\u001b[0m output_notebook()\n",
      "File \u001b[0;32m~/source/penelope/penelope/notebook/co_occurrence/__init__.py:5\u001b[0m\n\u001b[1;32m      1\u001b[0m \u001b[38;5;66;03m# type: ignore\u001b[39;00m\n\u001b[1;32m      3\u001b[0m \u001b[38;5;28;01mfrom\u001b[39;00m \u001b[38;5;21;01mpenelope\u001b[39;00m\u001b[38;5;21;01m.\u001b[39;00m\u001b[38;5;21;01mpipeline\u001b[39;00m\u001b[38;5;21;01m.\u001b[39;00m\u001b[38;5;21;01mconfig\u001b[39;00m \u001b[38;5;28;01mimport\u001b[39;00m CorpusType\n\u001b[0;32m----> 5\u001b[0m \u001b[38;5;28;01mfrom\u001b[39;00m \u001b[38;5;21;01m.\u001b[39;00m\u001b[38;5;21;01mexplore_co_occurrence_gui\u001b[39;00m \u001b[38;5;28;01mimport\u001b[39;00m ExploreGUI\n\u001b[1;32m      6\u001b[0m \u001b[38;5;28;01mfrom\u001b[39;00m \u001b[38;5;21;01m.\u001b[39;00m\u001b[38;5;21;01mload_co_occurrences_gui\u001b[39;00m \u001b[38;5;28;01mimport\u001b[39;00m LoadGUI, create_load_gui\n\u001b[1;32m      7\u001b[0m \u001b[38;5;28;01mfrom\u001b[39;00m \u001b[38;5;21;01m.\u001b[39;00m\u001b[38;5;21;01mmain_gui\u001b[39;00m \u001b[38;5;28;01mimport\u001b[39;00m MainGUI\n",
      "File \u001b[0;32m~/source/penelope/penelope/notebook/co_occurrence/explore_co_occurrence_gui.py:7\u001b[0m\n\u001b[1;32m      4\u001b[0m \u001b[38;5;28;01mfrom\u001b[39;00m \u001b[38;5;21;01mpenelope\u001b[39;00m\u001b[38;5;21;01m.\u001b[39;00m\u001b[38;5;21;01mnotebook\u001b[39;00m\u001b[38;5;21;01m.\u001b[39;00m\u001b[38;5;21;01mword_trends\u001b[39;00m\u001b[38;5;21;01m.\u001b[39;00m\u001b[38;5;21;01mdisplayers\u001b[39;00m\u001b[38;5;21;01m.\u001b[39;00m\u001b[38;5;21;01mdisplay_top_table\u001b[39;00m \u001b[38;5;28;01mimport\u001b[39;00m CoOccurrenceTopTokensDisplayer\n\u001b[1;32m      6\u001b[0m \u001b[38;5;28;01mfrom\u001b[39;00m \u001b[38;5;21;01m.\u001b[39;00m\u001b[38;5;21;01m.\u001b[39;00m \u001b[38;5;28;01mimport\u001b[39;00m utility \u001b[38;5;28;01mas\u001b[39;00m notebook_utility\n\u001b[0;32m----> 7\u001b[0m \u001b[38;5;28;01mfrom\u001b[39;00m \u001b[38;5;21;01m.\u001b[39;00m\u001b[38;5;21;01m.\u001b[39;00m \u001b[38;5;28;01mimport\u001b[39;00m word_trends\n\u001b[1;32m      8\u001b[0m \u001b[38;5;28;01mfrom\u001b[39;00m \u001b[38;5;21;01m.\u001b[39;00m\u001b[38;5;21;01m.\u001b[39;00m\u001b[38;5;21;01mco_occurrence\u001b[39;00m\u001b[38;5;21;01m.\u001b[39;00m\u001b[38;5;21;01mtabular_gui\u001b[39;00m \u001b[38;5;28;01mimport\u001b[39;00m TabularCoOccurrenceGUI\n\u001b[1;32m     11\u001b[0m \u001b[38;5;28;01mclass\u001b[39;00m \u001b[38;5;21;01mExploreGUI\u001b[39;00m:\n",
      "File \u001b[0;32m~/source/penelope/penelope/notebook/word_trends/__init__.py:7\u001b[0m\n\u001b[1;32m      5\u001b[0m \u001b[38;5;28;01mfrom\u001b[39;00m \u001b[38;5;21;01m.\u001b[39;00m\u001b[38;5;21;01minterface\u001b[39;00m \u001b[38;5;28;01mimport\u001b[39;00m BundleTrendsData, TrendsComputeOpts, TrendsData\n\u001b[1;32m      6\u001b[0m \u001b[38;5;28;01mfrom\u001b[39;00m \u001b[38;5;21;01m.\u001b[39;00m\u001b[38;5;21;01mtrends_gui\u001b[39;00m \u001b[38;5;28;01mimport\u001b[39;00m CoOccurrenceTrendsGUI, TrendsBaseGUI, TrendsGUI\n\u001b[0;32m----> 7\u001b[0m \u001b[38;5;28;01mfrom\u001b[39;00m \u001b[38;5;21;01m.\u001b[39;00m\u001b[38;5;21;01mtrends_with_picks_gui\u001b[39;00m \u001b[38;5;28;01mimport\u001b[39;00m TokensSelector, TrendsWithPickTokensGUI\n",
      "File \u001b[0;32m~/source/penelope/penelope/notebook/word_trends/trends_with_picks_gui.py:10\u001b[0m\n\u001b[1;32m      6\u001b[0m \u001b[38;5;28;01mfrom\u001b[39;00m \u001b[38;5;21;01mipywidgets\u001b[39;00m \u001b[38;5;28;01mimport\u001b[39;00m HTML, Button, HBox, IntSlider, Layout, Output, SelectMultiple, Text, ToggleButton, VBox\n\u001b[1;32m      8\u001b[0m \u001b[38;5;28;01mfrom\u001b[39;00m \u001b[38;5;21;01mpenelope\u001b[39;00m\u001b[38;5;21;01m.\u001b[39;00m\u001b[38;5;21;01mcorpus\u001b[39;00m \u001b[38;5;28;01mimport\u001b[39;00m VectorizedCorpus\n\u001b[0;32m---> 10\u001b[0m \u001b[38;5;28;01mfrom\u001b[39;00m \u001b[38;5;21;01m.\u001b[39;00m\u001b[38;5;21;01mdisplayers\u001b[39;00m \u001b[38;5;28;01mimport\u001b[39;00m plotter\n\u001b[1;32m     11\u001b[0m \u001b[38;5;28;01mfrom\u001b[39;00m \u001b[38;5;21;01m.\u001b[39;00m\u001b[38;5;21;01minterface\u001b[39;00m \u001b[38;5;28;01mimport\u001b[39;00m TrendsData\n\u001b[1;32m     14\u001b[0m \u001b[38;5;28;01mclass\u001b[39;00m \u001b[38;5;21;01mTokensSelector\u001b[39;00m(abc\u001b[38;5;241m.\u001b[39mABC):\n",
      "File \u001b[0;32m~/source/penelope/penelope/notebook/word_trends/displayers/plotter.py:7\u001b[0m\n\u001b[1;32m      5\u001b[0m \u001b[38;5;28;01mimport\u001b[39;00m \u001b[38;5;21;01mbokeh\u001b[39;00m\n\u001b[1;32m      6\u001b[0m \u001b[38;5;28;01mimport\u001b[39;00m \u001b[38;5;21;01mnumpy\u001b[39;00m \u001b[38;5;28;01mas\u001b[39;00m \u001b[38;5;21;01mnp\u001b[39;00m\n\u001b[0;32m----> 7\u001b[0m \u001b[38;5;28;01mfrom\u001b[39;00m \u001b[38;5;21;01mbokeh\u001b[39;00m\u001b[38;5;21;01m.\u001b[39;00m\u001b[38;5;21;01mplotting\u001b[39;00m \u001b[38;5;28;01mimport\u001b[39;00m figure\n\u001b[1;32m      9\u001b[0m \u001b[38;5;28;01mimport\u001b[39;00m \u001b[38;5;21;01mpenelope\u001b[39;00m\u001b[38;5;21;01m.\u001b[39;00m\u001b[38;5;21;01mcommon\u001b[39;00m\u001b[38;5;21;01m.\u001b[39;00m\u001b[38;5;21;01mcurve_fit\u001b[39;00m \u001b[38;5;28;01mas\u001b[39;00m \u001b[38;5;21;01mcf\u001b[39;00m\n\u001b[1;32m     10\u001b[0m \u001b[38;5;28;01mfrom\u001b[39;00m \u001b[38;5;21;01mpenelope\u001b[39;00m\u001b[38;5;21;01m.\u001b[39;00m\u001b[38;5;21;01mcorpus\u001b[39;00m \u001b[38;5;28;01mimport\u001b[39;00m VectorizedCorpus\n",
      "\u001b[0;31mImportError\u001b[0m: cannot import name 'figure' from 'bokeh.plotting' (/home/roger/.cache/pypoetry/virtualenvs/humlab-inidun-symNAVlf-py3.9/lib/python3.9/site-packages/bokeh/plotting/__init__.py)"
     ]
    }
   ],
   "source": [
    "from bokeh.plotting import output_notebook\n",
    "from IPython.display import display\n",
    "from penelope.notebook.co_occurrence import MainGUI\n",
    "\n",
    "import __paths__\n",
    "\n",
    "output_notebook()\n",
    "gui = MainGUI(\n",
    "    corpus_config=\"SSI\",\n",
    "    corpus_folder=__paths__.corpus_folder,\n",
    "    data_folder=__paths__.data_folder,\n",
    "    resources_folder=__paths__.resources_folder,\n",
    ")\n",
    "display(gui.layout())"
   ]
  },
  {
   "cell_type": "code",
   "execution_count": 3,
   "id": "c6e91856",
   "metadata": {},
   "outputs": [
    {
     "ename": "ImportError",
     "evalue": "cannot import name 'figure' from 'bokeh.plotting' (/home/roger/.cache/pypoetry/virtualenvs/humlab-inidun-symNAVlf-py3.9/lib/python3.9/site-packages/bokeh/plotting/__init__.py)",
     "output_type": "error",
     "traceback": [
      "\u001b[0;31m---------------------------------------------------------------------------\u001b[0m",
      "\u001b[0;31mImportError\u001b[0m                               Traceback (most recent call last)",
      "Cell \u001b[0;32mIn[3], line 1\u001b[0m\n\u001b[0;32m----> 1\u001b[0m \u001b[38;5;28;01mfrom\u001b[39;00m \u001b[38;5;21;01mbokeh\u001b[39;00m\u001b[38;5;21;01m.\u001b[39;00m\u001b[38;5;21;01mplotting\u001b[39;00m \u001b[38;5;28;01mimport\u001b[39;00m figure\n",
      "\u001b[0;31mImportError\u001b[0m: cannot import name 'figure' from 'bokeh.plotting' (/home/roger/.cache/pypoetry/virtualenvs/humlab-inidun-symNAVlf-py3.9/lib/python3.9/site-packages/bokeh/plotting/__init__.py)"
     ]
    }
   ],
   "source": [
    "from bokeh.plotting import figure\n"
   ]
  },
  {
   "cell_type": "code",
   "execution_count": null,
   "id": "bd3e98a6-6a78-42cc-b423-6ad807bd3ed0",
   "metadata": {},
   "outputs": [],
   "source": []
  }
 ],
 "metadata": {
  "jupytext": {
   "encoding": "# -*- coding: utf-8 -*-",
   "formats": "ipynb,py:percent"
  },
  "kernelspec": {
   "display_name": "Python 3 (ipykernel)",
   "language": "python",
   "name": "python3"
  },
  "language_info": {
   "codemirror_mode": {
    "name": "ipython",
    "version": 3
   },
   "file_extension": ".py",
   "mimetype": "text/x-python",
   "name": "python",
   "nbconvert_exporter": "python",
   "pygments_lexer": "ipython3",
   "version": "3.9.10"
  }
 },
 "nbformat": 4,
 "nbformat_minor": 5
}

{
 "cells": [
  {
   "cell_type": "markdown",
   "metadata": {},
   "source": [
    "## Concept Context Co-Occurrences Analysis"
   ]
  },
  {
   "cell_type": "markdown",
   "metadata": {
    "lines_to_next_cell": 0
   },
   "source": [
    "### Setup notebook"
   ]
  },
  {
   "cell_type": "code",
   "execution_count": null,
   "metadata": {},
   "outputs": [],
   "source": [
    "%load_ext autoreload\n",
    "%autoreload 2\n",
    "# pylint: disable=too-many-instance-attributes, unused-argument\n",
    "\n",
    "import importlib\n",
    "import warnings\n",
    "\n",
    "import penelope.notebook.co_occurrence.load_co_occurrences_gui as load_gui\n",
    "import penelope.notebook.co_occurrence.to_co_occurrence_gui as compute_gui\n",
    "from bokeh.plotting import output_notebook\n",
    "from IPython.display import display\n",
    "from penelope.notebook.co_occurrence.compute_callback_pipeline import compute_co_occurrence\n",
    "\n",
    "import __paths__  # pylint: disable=unused-import\n",
    "from notebooks.corpus_data_config import SSI\n",
    "\n",
    "from .loaded_callback import loaded_callback\n",
    "\n",
    "warnings.filterwarnings(\"ignore\", category=FutureWarning)\n",
    "\n",
    "output_notebook()\n",
    "corpus_folder = __paths__.root_folder"
   ]
  },
  {
   "cell_type": "markdown",
   "metadata": {
    "lines_to_next_cell": 0
   },
   "source": [
    "### Generate new concept context co-co_occurrences\n",
    "For long running tasks, please use the CLI `concept_co_occurrence` instead.\n",
    "This function computes new concept context co-occurrence data and stores the result in a CSV file.\n",
    "Optionally, the co-occurrence data can be transformed to a vectorized corpus to enable word trend exploration."
   ]
  },
  {
   "cell_type": "code",
   "execution_count": null,
   "metadata": {
    "lines_to_next_cell": 0
   },
   "outputs": [],
   "source": [
    "\n",
    "# corpus_folder: str,\n",
    "# corpus_config: CorpusConfig,\n",
    "# pipeline_factory: Callable[[], CorpusPipeline],\n",
    "# done_callback: Callable[[CorpusPipeline, VectorizedCorpus, str, str, widgets.Output], None],\n",
    "# compute_callback: Callable = compute_co_occurrence,\n",
    "\n",
    "importlib.reload(compute_gui)\n",
    "gui: compute_gui.GUI = compute_gui.create_gui(\n",
    "    corpus_folder=corpus_folder,\n",
    "    corpus_config=SSI(corpus_folder=corpus_folder),\n",
    "    pipeline_factory=None,\n",
    "    done_callback=loaded_callback,\n",
    "    compute_callback=compute_co_occurrence,\n",
    ")\n",
    "display(gui.layout())"
   ]
  },
  {
   "cell_type": "markdown",
   "metadata": {
    "lines_to_next_cell": 0
   },
   "source": [
    "### Load saved concept context co-occurrences"
   ]
  },
  {
   "cell_type": "code",
   "execution_count": null,
   "metadata": {},
   "outputs": [],
   "source": [
    "lgu: load_gui.GUI = load_gui.create_gui(\n",
    "    data_folder=corpus_folder, filename_pattern=\"*co_occurrence.csv.zip\", loaded_callback=loaded_callback\n",
    ")\n",
    "display(lgu.layout())"
   ]
  }
 ],
 "metadata": {
  "jupytext": {
   "encoding": "# -*- coding: utf-8 -*-",
   "formats": "ipynb,py:percent"
  },
  "kernelspec": {
   "display_name": "Python 3",
   "language": "python",
   "name": "python3"
  }
 },
 "nbformat": 4,
 "nbformat_minor": 4
}

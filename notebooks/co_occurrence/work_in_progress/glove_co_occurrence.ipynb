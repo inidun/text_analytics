{
 "cells": [
  {
   "cell_type": "code",
   "execution_count": null,
   "metadata": {},
   "outputs": [],
   "source": [
    "import itertools\n",
    "from glove import Corpus\n",
    "import pandas as pd\n",
    "    \n",
    "# See http://www.foldl.me/2014/glove-python/\n",
    "def compute_GloVe_df(sentences, window=2, dictionary=None):\n",
    "    \n",
    "    corpus = Corpus( dictionary=dictionary)\n",
    "    corpus.fit(sentences, window=window)\n",
    "\n",
    "    dm = corpus.matrix.todense()\n",
    "    inverse_dictionary = { i: w for w, i in corpus.dictionary.items() }\n",
    "    id2token = [ inverse_dictionary[i] for i in range(0,max(inverse_dictionary.keys())+1)]\n",
    "\n",
    "    df = pd.DataFrame(dm.T, columns=id2token).assign(word=id2token).set_index('word')\n",
    "    return df\n",
    "\n",
    "# Create sorted dictionary to make HAL comparision easier\n",
    "def create_sorted_dictionary(sentences):\n",
    "    tokens = set()\n",
    "    for sentence in sentences:\n",
    "        tokens = tokens | set(sentence)\n",
    "    tokens = list(tokens)\n",
    "    tokens.sort()\n",
    "    dictionary = { w: i for i, w in enumerate(tokens)}    \n",
    "    return dictionary\n",
    "sentences = [ \"The Horse Raced Past The Barn Fell\".title().split() ]\n",
    "\n",
    "dictionary = create_sorted_dictionary(sentences)\n",
    "\n",
    "df = compute_GloVe_df(sentences, window=5, dictionary=dictionary)\n",
    "df\n",
    "\n"
   ]
  },
  {
   "cell_type": "code",
   "execution_count": null,
   "metadata": {},
   "outputs": [],
   "source": [
    "# Glove CO-OCCURRENCE (as implemented in python-glove):\n",
    "#  The counts are ALWAYS FORWARD i.e the window is added tvalues are ABSOLUTE c\n",
    "#  Added increment for each pair = 1 / distance-between-other-word\n",
    "#  NO normalization\n",
    "\n",
    "import pandas as pd\n",
    "import numpy as np\n",
    "import glove\n",
    "from nltk.tokenize import word_tokenize\n",
    "\n",
    "pd.options.display.precision = 2\n",
    "window = 4\n",
    "docs = [\n",
    "    'one two two one two two one two two one two two',\n",
    "    'one two two one two two one two two one two two',\n",
    "    #'This is the first document.',\n",
    "    #'This document is the second document.',\n",
    "    #'And this is the third one.',\n",
    "    #'Is this the first document?',\n",
    "]\n",
    "\n",
    "docs = [\n",
    "    [ w.lower() for w in word_tokenize(doc) if len(w) > 1 ] for doc in docs\n",
    "]\n",
    "\n",
    "model = glove.Corpus()\n",
    "model.fit(docs, window=window)\n",
    "\n",
    "X = model.matrix + model.matrix.T\n",
    "T = len(model.dictionary)\n",
    "id2token = { i: w for w, i in model.dictionary.items()  }\n",
    "\n",
    "df = pd.DataFrame(data=X.todense(), index=np.array(range(1, T+1)), columns=np.array(range(1, T+1)))\n",
    "df.columns = list(id2token.values())\n",
    "df['word'] = list(id2token.values())\n",
    "df = df.set_index('word')\n",
    "df"
   ]
  },
  {
   "cell_type": "code",
   "execution_count": null,
   "metadata": {},
   "outputs": [],
   "source": []
  }
 ],
 "metadata": {
  "jupytext": {
   "formats": "ipynb,py:percent"
  },
  "kernelspec": {
   "display_name": "Python 3",
   "language": "python",
   "name": "python3"
  },
  "language_info": {
   "codemirror_mode": {
    "name": "ipython",
    "version": 3
   },
   "file_extension": ".py",
   "mimetype": "text/x-python",
   "name": "python",
   "nbconvert_exporter": "python",
   "pygments_lexer": "ipython3",
   "version": "3.5.3"
  }
 },
 "nbformat": 4,
 "nbformat_minor": 2
}

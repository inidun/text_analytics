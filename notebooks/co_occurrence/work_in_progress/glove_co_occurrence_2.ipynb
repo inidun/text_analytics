{
 "cells": [
  {
   "cell_type": "code",
   "execution_count": null,
   "metadata": {
    "collapsed": true
   },
   "outputs": [],
   "source": [
    "# source from https://github.com/snji-khjuria/GloveModel\n",
    "    \n",
    "#essential imports\n",
    "import tensorflow as tf\n",
    "import  os"
   ]
  },
  {
   "cell_type": "code",
   "execution_count": null,
   "metadata": {
    "collapsed": true
   },
   "outputs": [],
   "source": [
    "#configuration variables\n",
    "fileLocation        = \"./corpus\"\n",
    "vocab_size          = 100000\n",
    "min_occurence       = 1\n",
    "scaling_factor      = 3/4.0\n",
    "cooccurence_cap     = 100\n",
    "batch_size          = 2\n",
    "learning_rate       = 0.05\n",
    "embedding_size      = 10\n",
    "left_context_size   = 2\n",
    "right_context_size  = 2\n",
    "words               = None\n",
    "word_to_id          = None\n",
    "#cooccurence_matrix[w1, w2] = float\n",
    "cooccurence_matrix  = None\n",
    "embeddings          = None\n",
    "epoch_loss_print    = 10\n",
    "epoch_tsne_print    = 10\n",
    "log_dir             = \"./logs\""
   ]
  },
  {
   "cell_type": "code",
   "execution_count": null,
   "metadata": {
    "collapsed": false
   },
   "outputs": [],
   "source": [
    "#utility to read the corpus\n",
    "def readCorpus(filename):\n",
    "#    docs = [\n",
    "#        \"With Windows 10 Home - get the best combination of Windows features you know and new improvements you'll love\",\n",
    "#        \"NVIDIA Geforce for High Graphics Performance\",\n",
    "#        \"15.6 inch HD LED Backlit Anti-glare TN Display\"\n",
    "#    ]\n",
    "    docs = [\n",
    "        \"roger roger roger anna anna roger roger\",\n",
    "        \"roger roger roger anna anna roger roger\"\n",
    "    ]\n",
    "    for line in docs: # open(filename):\n",
    "        line = line.strip()\n",
    "        yield line.lower().split()\n",
    "\n",
    "#get the left context\n",
    "def get_left_context(region, i, left_size):\n",
    "    start_index = i-left_size\n",
    "    if start_index<0:\n",
    "        start_index=0\n",
    "    left_context = region[start_index:i]\n",
    "    left_more = ['null_word']*(left_size-len(left_context))\n",
    "    left_more.extend(left_context)\n",
    "    return left_more\n",
    "\n",
    "#get the right context window\n",
    "def get_right_context(region, i, right_size):\n",
    "    end_index = i+right_size+1\n",
    "    total_region = len(region)\n",
    "    if end_index>total_region:\n",
    "        end_index=total_region\n",
    "    right_context = region[i+1:end_index]\n",
    "    right_context.extend(['null_word']*(right_size-len(right_context)))\n",
    "    return right_context\n",
    "\n",
    "#get the window\n",
    "def window(region, left_size=3, right_size=3):\n",
    "    total_region = len(region)\n",
    "    for i, word in enumerate(region):\n",
    "        left_context = get_left_context(region, i, left_size)\n",
    "        right_context = get_right_context(region, i, right_size)\n",
    "        yield (left_context, word, right_context)"
   ]
  },
  {
   "cell_type": "code",
   "execution_count": null,
   "metadata": {
    "collapsed": false
   },
   "outputs": [],
   "source": [
    "from collections import Counter, defaultdict\n",
    "def fit_to_corpus(corpus, vocab_size, min_occurences, left_size, right_size):\n",
    "    words_count = Counter()\n",
    "    #provides value for non-existent key\n",
    "    cooccurence_counts = defaultdict(float)\n",
    "    for region in corpus:\n",
    "        words_count.update(region)\n",
    "        #add 1/distance from the position of centralized context word\n",
    "        for l_context, word, r_context in window(region, left_size, right_size):\n",
    "            for i, context_word in enumerate(l_context[::-1]):\n",
    "                cooccurence_counts[(word, context_word)] += 1/(i+1)\n",
    "            for i, context_word in enumerate(r_context):\n",
    "                cooccurence_counts[(word, context_word)] += 1/(i+1)\n",
    "    words = [word for word, count in words_count.most_common(vocab_size) if count>=min_occurences]\n",
    "    word_to_id = {word:i for i, word in enumerate(words)}\n",
    "    cooccurence_matrix = {\n",
    "                        (word_to_id[words[0]], word_to_id[words[1]]):count\n",
    "                        for words, count in cooccurence_counts.items()\n",
    "                         if words[0] in word_to_id and words[1] in word_to_id\n",
    "                        }\n",
    "    return words, word_to_id, cooccurence_matrix"
   ]
  },
  {
   "cell_type": "code",
   "execution_count": null,
   "metadata": {
    "collapsed": false
   },
   "outputs": [],
   "source": [
    "#get the corpus\n",
    "corpus                                = readCorpus(fileLocation)\n",
    "#get words, word_to_id and cooccurence matrix by fitting it to corpus\n",
    "#we have words, wordstoid and possible cooccurence matrix for the words\n",
    "words, word_to_id, cooccurence_matrix = fit_to_corpus(corpus, vocab_size, min_occurence, left_context_size, right_context_size)"
   ]
  },
  {
   "cell_type": "code",
   "execution_count": null,
   "metadata": {
    "collapsed": false
   },
   "outputs": [],
   "source": [
    "print(cooccurence_matrix)"
   ]
  },
  {
   "cell_type": "code",
   "execution_count": null,
   "metadata": {
    "collapsed": false
   },
   "outputs": [],
   "source": [
    "focal_input         = tf.placeholder(tf.int32, shape=[batch_size], name=\"focal_words\")\n",
    "context_input       = tf.placeholder(tf.int32, shape=[batch_size], name=\"context_words\")\n",
    "cooccurence_count   = tf.placeholder(tf.float32, shape=[batch_size], name=\"cooccurence_count\")\n",
    "# epsilon          \n",
    "#full embedding size variables\n",
    "focal_embeddings    = tf.Variable(tf.random_uniform([vocab_size, embedding_size], -1.0, 1.0), name=\"focal_embeddings\")\n",
    "context_embeddings  = tf.Variable(tf.random_uniform([vocab_size, embedding_size], -1.0, 1.0), name=\"context_embeddings\")\n",
    "focal_biases        = tf.Variable(tf.random_uniform([vocab_size], -1.0, 1.0), name=\"focal_biases\")\n",
    "context_biases      = tf.Variable(tf.random_uniform([vocab_size], -1.0, 1.0), name=\"context_biases\")\n",
    "#embeddings lookup\n",
    "focal_embedding     = tf.nn.embedding_lookup([focal_embeddings], focal_input)\n",
    "context_embedding   = tf.nn.embedding_lookup([context_embeddings], context_input)\n",
    "focal_bias          = tf.nn.embedding_lookup([focal_biases], focal_input)\n",
    "context_bias        = tf.nn.embedding_lookup([context_biases], context_input)\n",
    "product             = tf.multiply(focal_embedding, context_embedding)\n",
    "embedding_product   = tf.reduce_sum(tf.multiply(focal_embedding, context_embedding), 1)\n",
    "cooccurence_epsilon = cooccurence_count+1e-10\n",
    "log_cooccurences    = tf.log(cooccurence_epsilon)\n",
    "distance_expr       = tf.square(tf.add_n([\n",
    "                        embedding_product,\n",
    "                        focal_bias,\n",
    "                        context_bias,\n",
    "                        tf.negative(log_cooccurences)]))\n",
    "count_max           = tf.constant([cooccurence_cap], dtype=tf.float32, name=\"max_cooccurence_count\")\n",
    "scaling_factor_input      = tf.constant([scaling_factor], dtype=tf.float32, name=\"scaling_factor\")\n",
    "weighting_factor    = tf.minimum(1.0, tf.pow(tf.div(cooccurence_count, count_max), scaling_factor_input))\n",
    "single_losses       = tf.multiply(weighting_factor, distance_expr)\n",
    "total_loss          = tf.reduce_sum(single_losses)\n",
    "optimizer           = tf.train.AdagradOptimizer(learning_rate).minimize(total_loss)\n",
    "combined_embeddings = tf.add(focal_embeddings, context_embeddings, name=\"combined_embeddings\")\n"
   ]
  },
  {
   "cell_type": "code",
   "execution_count": null,
   "metadata": {
    "collapsed": true
   },
   "outputs": [],
   "source": [
    "def batchify(batch_size, *sequences):\n",
    "    for i in range(0, len(sequences[0]), batch_size):\n",
    "        yield tuple(sequence[i:i+batch_size] for sequence in sequences)\n",
    "\n",
    "def prepare_batches():\n",
    "    #get cooccurence matrix as list of elements and return each list as batch\n",
    "    cooccurrences = [(word_ids[0], word_ids[1], count) for word_ids, count in cooccurence_matrix.items()]\n",
    "    i_indices, j_indices, counts = zip(*cooccurrences)\n",
    "    return list(batchify(batch_size, i_indices, j_indices, counts))"
   ]
  },
  {
   "cell_type": "code",
   "execution_count": null,
   "metadata": {
    "collapsed": true
   },
   "outputs": [],
   "source": [
    "import matplotlib.pyplot as plt\n",
    "from sklearn.manifold import TSNE\n",
    "\n",
    "def plot_with_labels(low_dim_embs, labels, path, size):\n",
    "    figure = plt.figure(figsize=size)  # in inches\n",
    "    for i, label in enumerate(labels):\n",
    "        #for each label get its x and y position.\n",
    "        x, y = low_dim_embs[i, :]\n",
    "        plt.scatter(x, y)\n",
    "        #text of annotation, xyposition, place label, coordinate system, \n",
    "        plt.annotate(label, xy=(x, y), xytext=(5, 2), textcoords='offset points', ha='right',\n",
    "                     va='bottom')\n",
    "    if path is not None:\n",
    "        figure.savefig(path)\n",
    "        plt.close(figure)\n",
    "\n",
    "def generate_tsne(path, size=(10, 10), word_count=1000, embeddings=None):\n",
    "    #get tsne representation\n",
    "    tsne         = TSNE(perplexity=30, n_components=2, init='pca', n_iter=5000)\n",
    "    #get the tsne transformation for each embedding\n",
    "    low_dim_embs = tsne.fit_transform(embeddings[:word_count, :])\n",
    "    #get label to assign for each point in embedding space\n",
    "    labels       = words[:word_count]\n",
    "    return plot_with_labels(low_dim_embs, labels, path, size)\n"
   ]
  },
  {
   "cell_type": "code",
   "execution_count": null,
   "metadata": {
    "collapsed": false
   },
   "outputs": [],
   "source": [
    "def train(num_epochs):\n",
    "    #get the batches\n",
    "    total_steps=0\n",
    "    batches = prepare_batches()\n",
    "    with tf.Session() as sess:\n",
    "        tf.global_variables_initializer().run()\n",
    "        for epoch in range(num_epochs):\n",
    "            for batch_index, batch in enumerate(batches):\n",
    "                i_s, j_s, counts = batch\n",
    "                feed_dict = {focal_input:i_s, context_input:j_s, cooccurence_count:counts}\n",
    "                sess.run([optimizer], feed_dict=feed_dict)\n",
    "                total_steps+=1\n",
    "            if epoch%epoch_loss_print==0:\n",
    "                loss = sess.run([total_loss], feed_dict)\n",
    "                print(\"Loss is \" + str(loss))\n",
    "            if epoch%epoch_tsne_print==0:\n",
    "                embeddings      = combined_embeddings.eval()\n",
    "                outputLocation  = \"\"\n",
    "                output_path = os.path.join(log_dir, \"epoch{:03d}.jpeg\".format(epoch))\n",
    "                generate_tsne(output_path, embeddings=embeddings)\n",
    "        embeddings = combined_embeddings.eval()\n",
    "    return embeddings"
   ]
  },
  {
   "cell_type": "code",
   "execution_count": null,
   "metadata": {
    "collapsed": false
   },
   "outputs": [],
   "source": [
    "embeddings = train(200)\n",
    "# print(embeddings)"
   ]
  },
  {
   "cell_type": "code",
   "execution_count": null,
   "metadata": {
    "collapsed": false
   },
   "outputs": [],
   "source": [
    "output_path = os.path.join(log_dir, \"final_embeddings.jpeg\")\n",
    "generate_tsne(output_path, embeddings=embeddings)\n",
    "print(\"Image generated\")"
   ]
  },
  {
   "cell_type": "code",
   "execution_count": null,
   "metadata": {
    "collapsed": true
   },
   "outputs": [],
   "source": [
    "#understand how the full code works with functions written in matrix\n",
    "#refactor for printing and the corpus fully built up."
   ]
  },
  {
   "cell_type": "code",
   "execution_count": null,
   "metadata": {
    "collapsed": true
   },
   "outputs": [],
   "source": [
    "#plotting the t-SNE section"
   ]
  }
 ],
 "metadata": {
  "kernelspec": {
   "display_name": "Python 3",
   "language": "python",
   "name": "python3"
  },
  "language_info": {
   "codemirror_mode": {
    "name": "ipython",
    "version": 3
   },
   "file_extension": ".py",
   "mimetype": "text/x-python",
   "name": "python",
   "nbconvert_exporter": "python",
   "pygments_lexer": "ipython3",
   "version": "3.5.3"
  }
 },
 "nbformat": 4,
 "nbformat_minor": 2
}

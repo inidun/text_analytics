{
 "cells": [
  {
   "cell_type": "code",
   "execution_count": null,
   "metadata": {},
   "outputs": [],
   "source": [
    "import os\n",
    "import sys\n",
    "\n",
    "root_folder = os.path.join(os.getcwd().split('text_analytics')[0], 'text_analytics')\n",
    "sys.path = list(set(sys.path + [ root_folder ]))\n",
    "\n",
    "assert sys.version_info > (3,8,5)\n",
    "\n",
    "from westac.corpus import vectorized_corpus\n"
   ]
  },
  {
   "cell_type": "code",
   "execution_count": null,
   "metadata": {
    "tags": []
   },
   "outputs": [],
   "source": [
    "corpus_tag = 'legal_instrument_corpus_L2_-N_+S'\n",
    "corpus_folder = os.path.join(root_folder, 'data')\n",
    "\n",
    "x_corpus = vectorized_corpus.VectorizedCorpus \\\n",
    "    .load(corpus_tag, folder=corpus_folder) \\\n",
    "    #.stats()    \n",
    "    #.slice_by_n_count(n_count)\\\n",
    "    #.slice_by_n_top(n_top)\n",
    "    #.filter(year_filter)\\\n"
   ]
  },
  {
   "cell_type": "code",
   "execution_count": null,
   "metadata": {
    "tags": []
   },
   "outputs": [],
   "source": [
    "import pandas as pd\n",
    "\n",
    "top = pd.DataFrame.from_dict(x_corpus.n_top_tokens(500), orient='index')\n",
    "docs = x_corpus.documents.sort_values(by=['year'])\n",
    "display(top, docs)\n"
   ]
  }
 ],
 "metadata": {
  "jupytext": {
   "formats": "ipynb,py:percent"
  },
  "kernelspec": {
   "display_name": "Python 3.8.5 64-bit ('text_analytics': pipenv)",
   "language": "python",
   "name": "python_defaultSpec_1600258470310"
  },
  "language_info": {
   "codemirror_mode": {
    "name": "ipython",
    "version": 3
   },
   "file_extension": ".py",
   "mimetype": "text/x-python",
   "name": "python",
   "nbconvert_exporter": "python",
   "pygments_lexer": "ipython3",
   "version": "3.8.5-final"
  }
 },
 "nbformat": 4,
 "nbformat_minor": 4
}

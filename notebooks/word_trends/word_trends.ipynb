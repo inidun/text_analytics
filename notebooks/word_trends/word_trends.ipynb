{
 "cells": [
  {
   "source": [
    "# Setup Notebook"
   ],
   "cell_type": "markdown",
   "metadata": {}
  },
  {
   "cell_type": "code",
   "execution_count": null,
   "metadata": {
    "tags": [],
    "vscode": {}
   },
   "outputs": [],
   "source": [
    "%load_ext autoreload\n",
    "%autoreload 2\n",
    "\n",
    "import os\n",
    "import sys\n",
    "import bokeh.plotting\n",
    "import types\n",
    "\n",
    "assert sys.version_info > (3,8)\n",
    "\n",
    "root_folder = os.path.join(os.getcwd().split('text_analytics')[0], 'text_analytics')\n",
    "corpus_folder = os.path.join(root_folder, 'data')\n",
    "\n",
    "sys.path = sys.path + [ root_folder, globals()['_dh'][-1] ]\n",
    "\n",
    "import text_analytic_tools.utility.utils as utility\n",
    "from corpus_tools import get_textacy_corpus\n",
    "from word_trends_textacy_corpus_gui import vectorize_textacy_corpus\n",
    "\n",
    "bokeh.plotting.output_notebook(hide_banner=True)\n",
    "\n",
    "container = types.SimpleNamespace(corpus=None, t_corpus=None, index=None, handle=None, data_source=None, data=None, figure=None)\n"
   ]
  },
  {
   "cell_type": "markdown",
   "metadata": {},
   "source": [
    "### Load and display corpus\n",
    "<!--\n",
    "The corpus was created with the following settings:\n",
    " - Tokens were converted to lower case.\n",
    " - Only tokens that contains at least one alphanumeric character (isalnum).\n",
    " - Accents are ot removed (deacc)\n",
    " - Min token length 2 (min_len)\n",
    " - Max length not set (max_len)\n",
    " - Numerals are removed (numerals, -N)\n",
    " - Symbols are removed (symbols, -S)\n",
    "\n",
    "Use the `vectorize_corpus` script to create a new corpus with different settings.\n",
    "\n",
    "The corpus is processed in the following ways when loaded:\n",
    "\n",
    " - Exclude tokens having a total word count less than `Min count`\n",
    " - Include at most `Top count` most frequent words.\n",
    " - Group and sum up documents by year.\n",
    " - Normalize token distribution over years to 1.0\n",
    " \n",
    " -->"
   ]
  },
  {
   "cell_type": "code",
   "execution_count": null,
   "metadata": {
    "tags": []
   },
   "outputs": [],
   "source": [
    "import word_trends_textacy_corpus_gui as textacy_corpus_gui\n",
    "_ = textacy_corpus_gui.display_gui(corpus_folder, container=container)"
   ]
  },
  {
   "cell_type": "code",
   "execution_count": null,
   "metadata": {},
   "outputs": [],
   "source": []
  }
 ],
 "metadata": {
  "kernelspec": {
   "name": "Python 3.8.2 64-bit ('text_analytics': venv)",
   "display_name": "Python 3.8.2 64-bit ('text_analytics': venv)",
   "metadata": {
    "interpreter": {
     "hash": "feaa6644a67d98bc2c380c25a7ae5b1ab301b95bfc0add23663419f9cdbe38f8"
    }
   }
  },
  "language_info": {
   "codemirror_mode": {
    "name": "ipython",
    "version": 3
   },
   "file_extension": ".py",
   "mimetype": "text/x-python",
   "name": "python",
   "nbconvert_exporter": "python",
   "pygments_lexer": "ipython3",
   "version": "3.8.2-final"
  }
 },
 "nbformat": 4,
 "nbformat_minor": 4
}
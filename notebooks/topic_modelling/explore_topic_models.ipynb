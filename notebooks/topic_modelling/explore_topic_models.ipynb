{
 "cells": [
  {
   "cell_type": "markdown",
   "id": "2d05b680",
   "metadata": {},
   "source": [
    "## Text Analysis - Topic Modeling\n",
    "### <span style='color: green'>SETUP </span> Prepare and Setup Notebook <span style='float: right; color: red'>MANDATORY</span>"
   ]
  },
  {
   "cell_type": "code",
   "execution_count": null,
   "id": "2da3dcda",
   "metadata": {},
   "outputs": [],
   "source": [
    "\n",
    "import os\n",
    "from typing import Callable\n",
    "\n",
    "import __paths__  # pylint: disable=unused-import\n",
    "import bokeh.plotting\n",
    "import penelope.notebook.topic_modelling as ntm\n",
    "from IPython.display import display\n",
    "from penelope.pipeline.config import CorpusConfig\n",
    "from penelope.utility import pandas_utils\n",
    "\n",
    "bokeh.plotting.output_notebook()\n",
    "pandas_utils.set_default_options()\n",
    "\n",
    "__paths__.data_folder = \"/data/inidun\"\n",
    "__paths__.resources_folder = \"/data/inidun/resources\"\n",
    "\n",
    "current_state: Callable[[], ntm.TopicModelContainer] = ntm.TopicModelContainer.singleton\n",
    "corpus_folder: str = \"/data/inidun\"\n",
    "corpus_config: CorpusConfig = CorpusConfig.load(os.path.join(__paths__.resources_folder, 'courier_page.yml'))"
   ]
  },
  {
   "cell_type": "markdown",
   "id": "4132616a",
   "metadata": {},
   "source": [
    "### <span style='color: green'>PREPARE</span> Load Topic Model <span style='float: right; color: red'>MANDATORY</span>"
   ]
  },
  {
   "cell_type": "code",
   "execution_count": null,
   "id": "f1849715",
   "metadata": {},
   "outputs": [],
   "source": [
    "load_gui: ntm.LoadGUI = ntm.LoadGUI(data_folder=corpus_folder, state=current_state()).setup()\n",
    "display(load_gui.layout())"
   ]
  },
  {
   "cell_type": "markdown",
   "id": "2126c522",
   "metadata": {},
   "source": [
    "### <span style='color: green;'>BROWSE</span> Find topics by token<span style='color: red; float: right'>TRY IT</span>\n",
    "\n",
    "Displays topics in which given token is among toplist of dominant words."
   ]
  },
  {
   "cell_type": "code",
   "execution_count": null,
   "id": "9903b05d",
   "metadata": {},
   "outputs": [],
   "source": [
    "fd_ui = ntm.FindTopicDocumentsGUI(current_state()).setup()\n",
    "display(fd_ui.layout())"
   ]
  },
  {
   "cell_type": "markdown",
   "id": "09493a4c",
   "metadata": {},
   "source": [
    "### <span style='color: green;'>BROWSE</span> Browse Topic Documents<span style='color: red; float: right'>TRY IT</span>\n",
    "\n",
    "Displays documents in which a topic occurs above a given threshold."
   ]
  },
  {
   "cell_type": "code",
   "execution_count": null,
   "id": "8b7134b5",
   "metadata": {},
   "outputs": [],
   "source": [
    "td_ui = ntm.BrowseTopicDocumentsGUI(current_state()).setup()\n",
    "display(td_ui.layout())"
   ]
  },
  {
   "cell_type": "markdown",
   "id": "2d783634",
   "metadata": {},
   "source": [
    "### <span style='color: green;'>VISUALIZE</span> Display Topic's Word Distribution as a Wordcloud<span style='color: red; float: right'> TRY IT</span>"
   ]
  },
  {
   "cell_type": "code",
   "execution_count": null,
   "id": "45fe7cf7",
   "metadata": {},
   "outputs": [],
   "source": [
    "ntm.display_topic_wordcloud_gui(current_state())"
   ]
  },
  {
   "cell_type": "markdown",
   "id": "42e9397f",
   "metadata": {},
   "source": [
    "### <span style='color: green;'>VISUALIZE</span> Topic-Word Distribution<span style='color: red; float: right'>TRY IT</span>\n"
   ]
  },
  {
   "cell_type": "code",
   "execution_count": null,
   "id": "99e0e716",
   "metadata": {},
   "outputs": [],
   "source": [
    "ntm.display_topic_word_distribution_gui(current_state())"
   ]
  },
  {
   "cell_type": "markdown",
   "id": "744aa902",
   "metadata": {},
   "source": [
    "### <span style='color: green;'>VISUALIZE</span> Topic Trends over Time<span style='color: red; float: right'>RUN</span>"
   ]
  },
  {
   "cell_type": "code",
   "execution_count": null,
   "id": "bcee185b",
   "metadata": {},
   "outputs": [],
   "source": [
    "ntm.display_topic_trends_gui(current_state())"
   ]
  },
  {
   "cell_type": "markdown",
   "id": "62c03791",
   "metadata": {},
   "source": [
    "### <span style='color: green;'>VISUALIZE</span> Topic Trends Overview<span style='color: red; float: right'>TRY IT</span>\n",
    "\n",
    "- The topic shares  displayed as a scattered heatmap plot using gradient color based on topic's weight in document.\n",
    "- [Stanford’s Termite software](http://vis.stanford.edu/papers/termite) uses a similar visualization."
   ]
  },
  {
   "cell_type": "code",
   "execution_count": null,
   "id": "85607ce1",
   "metadata": {},
   "outputs": [],
   "source": [
    "ntm.display_topic_trends_overview_gui(current_state())"
   ]
  },
  {
   "cell_type": "markdown",
   "id": "f2bfa394",
   "metadata": {},
   "source": [
    "### <span style='color: green;'>VISUALIZE</span> Topic Topic Network<span style='color: red; float: right'>TRY IT</span>\n",
    "\n",
    "Computes weighted graph of topics co-occurring in the same document. Topics are defined as co-occurring in a document if they both have a weight above given threshold. The edge weights are the number of co-occurrences (binary yes or no). Node size reflects topic proportions over the entire corpus computed in accordance to LDAvis topic proportions."
   ]
  },
  {
   "cell_type": "code",
   "execution_count": null,
   "id": "4ebd569f",
   "metadata": {
    "code_folding": [
     0
    ]
   },
   "outputs": [],
   "source": [
    "ntm.display_topic_topic_network_gui(current_state())"
   ]
  },
  {
   "cell_type": "markdown",
   "id": "ff287040",
   "metadata": {},
   "source": [
    "### <span style='color: green;'>VISUALIZE</span> Document Topic Network<span style='color: red; float: right'>TRY IT</span>\n"
   ]
  },
  {
   "cell_type": "code",
   "execution_count": null,
   "id": "8c2c159e",
   "metadata": {
    "lines_to_next_cell": 0
   },
   "outputs": [],
   "source": [
    "dtdn_ui: ntm.TopicDocumentNetworkGui = ntm.DefaultTopicDocumentNetworkGui(state=current_state()).setup()\n",
    "display(dtdn_ui.layout())"
   ]
  },
  {
   "cell_type": "markdown",
   "id": "fcda2529",
   "metadata": {},
   "source": [
    "### <span style='color: green;'>VISUALIZE</span> Focus-Topic Document Network<span style='color: red; float: right'>TRY IT</span>\n"
   ]
  },
  {
   "cell_type": "code",
   "execution_count": null,
   "id": "89e924d3",
   "metadata": {
    "lines_to_next_cell": 0
   },
   "outputs": [],
   "source": [
    "ftdn_ui: ntm.TopicDocumentNetworkGui = ntm.FocusTopicDocumentNetworkGui(state=current_state()).setup()\n",
    "display(ftdn_ui.layout())"
   ]
  },
  {
   "cell_type": "markdown",
   "id": "f59199e7",
   "metadata": {},
   "source": [
    "### <span style='color: green;'>VISUALIZE</span> Topic-Token  Network<span style='color: red; float: right'>TRY IT</span>"
   ]
  },
  {
   "cell_type": "code",
   "execution_count": null,
   "id": "e6f4bac8",
   "metadata": {},
   "outputs": [],
   "source": [
    "custom_styles = {'edges': {'curve-style': 'haystack'}}\n",
    "w = ntm.create_topics_token_network_gui(data_folder=corpus_folder, custom_styles=custom_styles)\n",
    "display(w.layout())"
   ]
  }
 ],
 "metadata": {
  "jupytext": {
   "encoding": "# -*- coding: utf-8 -*-",
   "formats": "ipynb,py:percent"
  },
  "kernelspec": {
   "display_name": "Python 3 (ipykernel)",
   "language": "python",
   "name": "python3"
  }
 },
 "nbformat": 4,
 "nbformat_minor": 5
}

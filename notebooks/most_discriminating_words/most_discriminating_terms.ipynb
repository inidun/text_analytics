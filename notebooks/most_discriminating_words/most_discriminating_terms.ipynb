{
 "cells": [
  {
   "cell_type": "markdown",
   "id": "d7e2cf57",
   "metadata": {},
   "source": [
    "## Most Discriminating Terms\n",
    "References:\n",
    "    King, Gary, Patrick Lam, and Margaret Roberts. \"Computer-Assisted Keyword\n",
    "    and Document Set Discovery from Unstructured Text.\" (2014).\n",
    "    http://citeseerx.ist.psu.edu/viewdoc/download?doi=10.1.1.458.1445&rep=rep1&type=pdf"
   ]
  },
  {
   "cell_type": "code",
   "execution_count": null,
   "id": "68ff2a42",
   "metadata": {
    "tags": []
   },
   "outputs": [],
   "source": [
    "%load_ext autoreload\n",
    "%autoreload 2\n",
    "\n",
    "import __paths__\n",
    "from IPython.display import display\n",
    "from penelope.notebook.mdw import create_main_gui\n",
    "\n",
    "__paths__.data_folder = \"/data/inidun\"\n",
    "__paths__.resources_folder = \"/data/inidun/resources\"\n",
    "\n",
    "gui = create_main_gui(corpus_folder=__paths__.data_folder)\n",
    "\n",
    "display(gui)"
   ]
  }
 ],
 "metadata": {
  "jupytext": {
   "formats": "ipynb,py:percent"
  },
  "kernelspec": {
   "display_name": "Python 3 (ipykernel)",
   "language": "python",
   "name": "python3"
  },
  "language_info": {
   "codemirror_mode": {
    "name": "ipython",
    "version": 3
   },
   "file_extension": ".py",
   "mimetype": "text/x-python",
   "name": "python",
   "nbconvert_exporter": "python",
   "pygments_lexer": "ipython3",
   "version": "3.11.3"
  }
 },
 "nbformat": 4,
 "nbformat_minor": 5
}

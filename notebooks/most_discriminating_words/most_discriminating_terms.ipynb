{
 "cells": [
  {
   "cell_type": "markdown",
   "id": "298ea2ee",
   "metadata": {},
   "source": [
    "## Most Discriminating Terms\n",
    "References:\n",
    "    King, Gary, Patrick Lam, and Margaret Roberts. \"Computer-Assisted Keyword\n",
    "    and Document Set Discovery from Unstructured Text.\" (2014).\n",
    "    http://citeseerx.ist.psu.edu/viewdoc/download?doi=10.1.1.458.1445&rep=rep1&type=pdf"
   ]
  },
  {
   "cell_type": "code",
   "execution_count": null,
   "id": "ebf9e58e",
   "metadata": {
    "lines_to_next_cell": 0
   },
   "outputs": [],
   "source": [
    "\n",
    "import __paths__\n",
    "from IPython.display import display\n",
    "from penelope.notebook.mdw import create_main_gui\n",
    "\n",
    "__paths__.data_folder = \"/data/inidun\"\n",
    "__paths__.resources_folder = \"/data/inidun/resources\"\n",
    "\n",
    "gui = create_main_gui(corpus_folder=__paths__.data_folder)\n",
    "\n",
    "display(gui)"
   ]
  },
  {
   "cell_type": "code",
   "execution_count": null,
   "id": "158bd2fa",
   "metadata": {},
   "outputs": [],
   "source": []
  }
 ],
 "metadata": {
  "jupytext": {
   "formats": "ipynb,py:percent"
  },
  "kernelspec": {
   "display_name": "Python 3",
   "language": "python",
   "name": "python3"
  }
 },
 "nbformat": 4,
 "nbformat_minor": 5
}

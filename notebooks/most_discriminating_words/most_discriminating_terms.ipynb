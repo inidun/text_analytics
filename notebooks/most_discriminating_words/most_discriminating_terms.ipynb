{
 "cells": [
  {
   "cell_type": "markdown",
   "id": "85ba759d",
   "metadata": {},
   "source": [
    "## Most Discriminating Terms\n",
    "References:\n",
    "    King, Gary, Patrick Lam, and Margaret Roberts. \"Computer-Assisted Keyword\n",
    "    and Document Set Discovery from Unstructured Text.\" (2014).\n",
    "    http://citeseerx.ist.psu.edu/viewdoc/download?doi=10.1.1.458.1445&rep=rep1&type=pdf"
   ]
  },
  {
   "cell_type": "code",
   "execution_count": 5,
   "id": "178fbcbb",
   "metadata": {
    "tags": []
   },
   "outputs": [
    {
     "name": "stdout",
     "output_type": "stream",
     "text": [
      "The autoreload extension is already loaded. To reload it, use:\n",
      "  %reload_ext autoreload\n"
     ]
    },
    {
     "data": {
      "application/vnd.jupyter.widget-view+json": {
       "model_id": "34150bf30da845f1ac05b604edaea86b",
       "version_major": 2,
       "version_minor": 0
      },
      "text/plain": [
       "VBox(children=(HBox(children=(FileChooser(path='/home/roger/data/inidun', filename='', title='<b>Open file (*_…"
      ]
     },
     "metadata": {},
     "output_type": "display_data"
    }
   ],
   "source": [
    "%load_ext autoreload\n",
    "%autoreload 2\n",
    "\n",
    "import __paths__\n",
    "from IPython.display import display\n",
    "from penelope.notebook.mdw import create_main_gui\n",
    "\n",
    "__paths__.data_folder = \"/data/inidun\"\n",
    "__paths__.resources_folder = \"/data/inidun/resources\"\n",
    "\n",
    "gui = create_main_gui(folder=__paths__.data_folder)\n",
    "\n",
    "display(gui.layout())"
   ]
  },
  {
   "cell_type": "code",
   "execution_count": null,
   "id": "f5cbb622-b38b-4535-8c55-c0f5fb86f4b8",
   "metadata": {},
   "outputs": [],
   "source": []
  }
 ],
 "metadata": {
  "jupytext": {
   "formats": "ipynb,py:percent"
  },
  "kernelspec": {
   "display_name": "Python 3 (ipykernel)",
   "language": "python",
   "name": "python3"
  },
  "language_info": {
   "codemirror_mode": {
    "name": "ipython",
    "version": 3
   },
   "file_extension": ".py",
   "mimetype": "text/x-python",
   "name": "python",
   "nbconvert_exporter": "python",
   "pygments_lexer": "ipython3",
   "version": "3.11.3"
  }
 },
 "nbformat": 4,
 "nbformat_minor": 5
}

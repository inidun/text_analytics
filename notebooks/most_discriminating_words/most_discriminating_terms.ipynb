{
 "cells": [
  {
   "cell_type": "markdown",
   "id": "beadd6ad",
   "metadata": {},
   "source": [
    "## Most Discriminating Terms\n",
    "References:\n",
    "    King, Gary, Patrick Lam, and Margaret Roberts. \"Computer-Assisted Keyword\n",
    "    and Document Set Discovery from Unstructured Text.\" (2014).\n",
    "    http://citeseerx.ist.psu.edu/viewdoc/download?doi=10.1.1.458.1445&rep=rep1&type=pdf"
   ]
  },
  {
   "cell_type": "code",
   "execution_count": null,
   "id": "81864f1d",
   "metadata": {
    "lines_to_next_cell": 0
   },
   "outputs": [],
   "source": [
    "\n",
    "from IPython.display import display\n",
    "from penelope.notebook.mdw import create_main_gui\n",
    "\n",
    "import __paths__\n",
    "\n",
    "gui = create_main_gui(corpus_folder=__paths__.data_folder)\n",
    "\n",
    "display(gui)"
   ]
  },
  {
   "cell_type": "code",
   "execution_count": null,
   "id": "98020771",
   "metadata": {},
   "outputs": [],
   "source": []
  }
 ],
 "metadata": {
  "jupytext": {
   "formats": "ipynb,py:percent"
  },
  "kernelspec": {
   "display_name": "Python 3",
   "language": "python",
   "name": "python3"
  }
 },
 "nbformat": 4,
 "nbformat_minor": 5
}

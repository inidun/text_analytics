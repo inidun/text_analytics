{
 "cells": [
  {
   "cell_type": "code",
   "execution_count": null,
   "metadata": {
    "lines_to_next_cell": 2
   },
   "outputs": [],
   "source": [
    "import __paths__\n",
    "\n",
    "CORPUS_FOLDER = os.path.join(__paths__.ROOT_FOLDER, \"data\")\n",
    "\n",
    "class LoadTask(ITask):\n",
    "\n",
    "    def execute(self, pipeline: TextacyCorpusPipeline):\n",
    "        if pipeline.corpus is None:\n",
    "            textacy_corpus_path = textacy_utility.generate_corpus_filename(pipeline.filename, pipeline.lang)\n",
    "            pipeline.corpus = textacy_utility.load_corpus(textacy_corpus_path, pipeline.nlp)\n",
    "        return pipeline"
   ]
  },
  {
   "cell_type": "code",
   "execution_count": null,
   "metadata": {},
   "outputs": [],
   "source": []
  }
 ],
 "metadata": {
  "jupytext": {
   "formats": "ipynb,py:percent",
   "main_language": "python"
  },
  "kernelspec": {
   "display_name": "Python 3.8.5 64-bit ('text-analytics-symNAVlf-py3.8': venv)",
   "metadata": {
    "interpreter": {
     "hash": "f9f5370a66fe709225320b0a5e42eaf481fec3c92c4ac457a33063cd6d0e2297"
    }
   },
   "name": "Python 3.8.5 64-bit ('text-analytics-symNAVlf-py3.8': venv)"
  }
 },
 "nbformat": 4,
 "nbformat_minor": 4
}

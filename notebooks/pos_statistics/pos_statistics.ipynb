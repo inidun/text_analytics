{
 "cells": [
  {
   "cell_type": "markdown",
   "metadata": {},
   "source": [
    "# Setup notebook"
   ]
  },
  {
   "cell_type": "code",
   "execution_count": null,
   "metadata": {
    "tags": []
   },
   "outputs": [],
   "source": [
    "%load_ext autoreload\n",
    "%autoreload 2"
   ]
  },
  {
   "cell_type": "code",
   "execution_count": null,
   "metadata": {
    "lines_to_next_cell": 2
   },
   "outputs": [],
   "source": [
    "import collections\n",
    "import os\n",
    "from typing import List\n",
    "\n",
    "# pylint: disable=wrong-import-order\n",
    "import __paths__\n",
    "\n",
    "# import notebooks.common.ipyaggrid_plot as ipyaggrid_plot\n",
    "import pandas as pd\n",
    "import penelope.utility.utils as utility\n",
    "import penelope.vendor.textacy as textacy_utility\n",
    "import textacy\n",
    "from IPython.display import display\n",
    "from penelope.vendor.textacy.pipeline import CreateTask, LoadTask, PreprocessTask, SaveTask, TextacyCorpusPipeline\n",
    "import notebooks.common.ipyaggrid_plot as ipyaggrid_plot\n",
    "\n",
    "ROOT_FOLDER = __paths__.ROOT_FOLDER\n",
    "CORPUS_FOLDER = os.path.join(ROOT_FOLDER, \"data\")"
   ]
  },
  {
   "cell_type": "markdown",
   "metadata": {},
   "source": [
    "## Prepare and load `SSI Legal Intruments` corpus\n",
    "\n",
    "\n",
    "def get_pos_statistics(doc):\n",
    "\n",
    "    pos_iter = (x.pos_ for x in doc if x.pos_ not in [\"NUM\", \"PUNCT\", \"SPACE\"])\n",
    "    pos_counts = dict(collections.Counter(pos_iter))\n",
    "    stats = utility.extend(\n",
    "        dict(document_id=doc.user_data[\"textacy\"][\"meta\"][\"document_id\"]),\n",
    "        dict(textacy_utility.POS_TO_COUNT),\n",
    "        pos_counts,\n",
    "    )\n",
    "    return stats\n",
    "\n",
    "\n",
    "def add_corpus_metadata(corpus: textacy.Corpus, documents: pd.DataFrame) -> pd.DataFrame:\n",
    "\n",
    "    metadata = [get_pos_statistics(doc) for doc in corpus]\n",
    "    df = pd.DataFrame(metadata).set_index(\"document_id\")\n",
    "    df = df.merge(documents, how=\"inner\", left_index=True, right_on=\"unesco_id\")\n",
    "    df[\"words\"] = df[textacy_utility.POS_NAMES].apply(sum, axis=1)\n",
    "\n",
    "    return df\n",
    "\n",
    "\n",
    "def compute_corpus_statistics(\n",
    "    documents: pd.DataFrame,\n",
    "    textacy_corpus: textacy.Corpus,\n",
    "    group_by_column: str = \"year\",\n",
    "    include_pos: List[str] = None,\n",
    "):\n",
    "\n",
    "    documents = add_corpus_metadata(textacy_corpus, documents)\n",
    "    value_columns = list(textacy_utility.POS_NAMES) if (len(include_pos or [])) == 0 else list(include_pos)\n",
    "\n",
    "    documents[\"signed_lustrum\"] = (documents.year - documents.year.mod(5)).astype(int)\n",
    "    documents[\"signed_decade\"] = (documents.year - documents.year.mod(10)).astype(int)\n",
    "    documents[\"total\"] = documents[value_columns].apply(sum, axis=1)\n",
    "\n",
    "    aggregates = {x: [\"sum\"] for x in value_columns}\n",
    "    aggregates[\"total\"] = [\"sum\", \"mean\", \"min\", \"max\", \"size\"]\n",
    "\n",
    "    documents = documents.groupby(group_by_column).agg(aggregates)\n",
    "    documents.columns = [(\"Total, \" + x[1].lower()) if x[0] == \"total\" else x[0] for x in documents.columns]\n",
    "    columns = sorted(value_columns) + sorted([x for x in documents.columns if x.startswith(\"Total\")])\n",
    "    return documents[columns]\n",
    "\n",
    "\n",
    "def display_corpus_statistics(\n",
    "    corpus_folder: str,\n",
    "    lang: str,\n",
    "):\n",
    "\n",
    "    source_path = os.path.join(corpus_folder, \"legal_instrument_corpus.zip\")\n",
    "    documents = pd.read_csv(os.path.join(corpus_folder, \"legal_instrument_index.csv\"), sep=\";\", header=0)\n",
    "    filename_fields = [\"unesco_id:_:2\", \"year:_:3\", r'city:\\w+\\_\\d+\\_\\d+\\_\\d+\\_(.*)\\.txt']\n",
    "\n",
    "    options = dict(filename=source_path, lang=lang, documents=documents, filename_fields=filename_fields)\n",
    "    tasks = [\n",
    "        PreprocessTask,\n",
    "        CreateTask,\n",
    "        SaveTask,\n",
    "        LoadTask,\n",
    "    ]\n",
    "    pipeline = TextacyCorpusPipeline(**options, tasks=tasks)\n",
    "    corpus = pipeline.process().corpus\n",
    "\n",
    "    corpus_stats: pd.DataFrame = compute_corpus_statistics(documents, corpus)\n",
    "\n",
    "    display(ipyaggrid_plot.simple_plot(corpus_stats))\n",
    "\n",
    "\n",
    "display_corpus_statistics(corpus_folder=CORPUS_FOLDER, lang=\"en\")"
   ]
  }
 ],
 "metadata": {
  "jupytext": {
   "formats": "ipynb,py:percent"
  },
  "kernelspec": {
   "display_name": "Python 3",
   "language": "python",
   "name": "python3"
  }
 },
 "nbformat": 4,
 "nbformat_minor": 4
}

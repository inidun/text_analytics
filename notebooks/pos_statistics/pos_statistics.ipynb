{
 "cells": [
  {
   "cell_type": "markdown",
   "metadata": {},
   "source": [
    "# Token Count Statistics\n",
    "### Text Processing Pipeline\n",
    "\n",
    "| | Building block | Arguments | Description |\n",
    "| -- | :------------- | :------------- | :------------- |\n",
    "| 💾 | <b>Checkpoint</b> | checkpoint_filename | Checkpoint (tagged frames) to file\n",
    "| 🔨 | TaggedFrame<b>ToTokens</b> | extract_tagged_tokens_opts, filter_opts | Tokens extractor\n",
    "\n",
    "The PoS tagging uses the same pipeline to produce a tagged data frame\n",
    "as for instance the word trends pipeline do. The processing will hence read\n",
    "checkpoint file if it exists, otherwise the full pipeline is executed.\n",
    "The word count statistics are collected as a side effect of the tagging (annotation) task.\n",
    "The total word count, and the word counts for each PoS-grouping, is added to each document in the\n",
    "index (ledger) file as new columns.\n",
    "\n",
    "Note: The dcument index file is either a pre-existing document index or,\n",
    "if no such index exists, automatically generated during the initial pipeline tasks.\n",
    "If no pre-existing file exists, then the necessary attributes (e.g. document's year)\n",
    "are extracted from each document's filename."
   ]
  },
  {
   "cell_type": "code",
   "execution_count": null,
   "metadata": {
    "lines_to_next_cell": 0,
    "tags": []
   },
   "outputs": [],
   "source": [
    "%load_ext autoreload\n",
    "%autoreload 2\n",
    "\n",
    "from IPython.core.display import display\n",
    "\n",
    "import __paths__  # pylint: disable=unused-import\n",
    "import notebooks.pos_statistics.tokens_count_gui as tokens_count_gui\n",
    "\n",
    "gui = tokens_count_gui.create_token_count_gui(\"SSI\")\n",
    "display(gui.layout())"
   ]
  },
  {
   "cell_type": "code",
   "execution_count": null,
   "metadata": {},
   "outputs": [],
   "source": []
  }
 ],
 "metadata": {
  "jupytext": {
   "formats": "ipynb,py:percent"
  },
  "kernelspec": {
   "display_name": "Python 3",
   "language": "python",
   "name": "python3"
  }
 },
 "nbformat": 4,
 "nbformat_minor": 4
}
